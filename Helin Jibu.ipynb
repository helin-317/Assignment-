{
 "cells": [
  {
   "cell_type": "code",
   "execution_count": 1,
   "id": "d0adb367",
   "metadata": {},
   "outputs": [],
   "source": [
    "import pandas as pd\n",
    "import numpy as np\n",
    "import matplotlib.pyplot as plt\n",
    "%matplotlib inline\n",
    "import seaborn as sns\n",
    "import statistics\n",
    "from sklearn.linear_model import LinearRegression"
   ]
  },
  {
   "cell_type": "markdown",
   "id": "33349b43",
   "metadata": {},
   "source": [
    "# Reading the Data"
   ]
  },
  {
   "cell_type": "code",
   "execution_count": 2,
   "id": "f0609e8a",
   "metadata": {},
   "outputs": [],
   "source": [
    "data=pd.read_csv(r'C:\\Users\\hp\\Downloads\\car_age_price.csv')"
   ]
  },
  {
   "cell_type": "code",
   "execution_count": 3,
   "id": "c86eb6e8",
   "metadata": {},
   "outputs": [
    {
     "data": {
      "text/html": [
       "<div>\n",
       "<style scoped>\n",
       "    .dataframe tbody tr th:only-of-type {\n",
       "        vertical-align: middle;\n",
       "    }\n",
       "\n",
       "    .dataframe tbody tr th {\n",
       "        vertical-align: top;\n",
       "    }\n",
       "\n",
       "    .dataframe thead th {\n",
       "        text-align: right;\n",
       "    }\n",
       "</style>\n",
       "<table border=\"1\" class=\"dataframe\">\n",
       "  <thead>\n",
       "    <tr style=\"text-align: right;\">\n",
       "      <th></th>\n",
       "      <th>Year</th>\n",
       "      <th>Price</th>\n",
       "    </tr>\n",
       "  </thead>\n",
       "  <tbody>\n",
       "    <tr>\n",
       "      <th>0</th>\n",
       "      <td>2018</td>\n",
       "      <td>465000</td>\n",
       "    </tr>\n",
       "    <tr>\n",
       "      <th>1</th>\n",
       "      <td>2019</td>\n",
       "      <td>755000</td>\n",
       "    </tr>\n",
       "    <tr>\n",
       "      <th>2</th>\n",
       "      <td>2019</td>\n",
       "      <td>700000</td>\n",
       "    </tr>\n",
       "    <tr>\n",
       "      <th>3</th>\n",
       "      <td>2018</td>\n",
       "      <td>465000</td>\n",
       "    </tr>\n",
       "    <tr>\n",
       "      <th>4</th>\n",
       "      <td>2018</td>\n",
       "      <td>465000</td>\n",
       "    </tr>\n",
       "    <tr>\n",
       "      <th>...</th>\n",
       "      <td>...</td>\n",
       "      <td>...</td>\n",
       "    </tr>\n",
       "    <tr>\n",
       "      <th>107</th>\n",
       "      <td>2016</td>\n",
       "      <td>375000</td>\n",
       "    </tr>\n",
       "    <tr>\n",
       "      <th>108</th>\n",
       "      <td>2014</td>\n",
       "      <td>300000</td>\n",
       "    </tr>\n",
       "    <tr>\n",
       "      <th>109</th>\n",
       "      <td>2015</td>\n",
       "      <td>425000</td>\n",
       "    </tr>\n",
       "    <tr>\n",
       "      <th>110</th>\n",
       "      <td>2016</td>\n",
       "      <td>420000</td>\n",
       "    </tr>\n",
       "    <tr>\n",
       "      <th>111</th>\n",
       "      <td>2015</td>\n",
       "      <td>425000</td>\n",
       "    </tr>\n",
       "  </tbody>\n",
       "</table>\n",
       "<p>112 rows × 2 columns</p>\n",
       "</div>"
      ],
      "text/plain": [
       "     Year   Price\n",
       "0    2018  465000\n",
       "1    2019  755000\n",
       "2    2019  700000\n",
       "3    2018  465000\n",
       "4    2018  465000\n",
       "..    ...     ...\n",
       "107  2016  375000\n",
       "108  2014  300000\n",
       "109  2015  425000\n",
       "110  2016  420000\n",
       "111  2015  425000\n",
       "\n",
       "[112 rows x 2 columns]"
      ]
     },
     "execution_count": 3,
     "metadata": {},
     "output_type": "execute_result"
    }
   ],
   "source": [
    "data\n"
   ]
  },
  {
   "cell_type": "markdown",
   "id": "aebb3823",
   "metadata": {},
   "source": [
    "# Details of Data"
   ]
  },
  {
   "cell_type": "code",
   "execution_count": 4,
   "id": "85ecbdf2",
   "metadata": {},
   "outputs": [
    {
     "name": "stdout",
     "output_type": "stream",
     "text": [
      "<class 'pandas.core.frame.DataFrame'>\n",
      "RangeIndex: 112 entries, 0 to 111\n",
      "Data columns (total 2 columns):\n",
      " #   Column  Non-Null Count  Dtype\n",
      "---  ------  --------------  -----\n",
      " 0   Year    112 non-null    int64\n",
      " 1   Price   112 non-null    int64\n",
      "dtypes: int64(2)\n",
      "memory usage: 1.9 KB\n"
     ]
    }
   ],
   "source": [
    "data.info()"
   ]
  },
  {
   "cell_type": "code",
   "execution_count": 5,
   "id": "ef9ca3ca",
   "metadata": {},
   "outputs": [
    {
     "data": {
      "text/html": [
       "<div>\n",
       "<style scoped>\n",
       "    .dataframe tbody tr th:only-of-type {\n",
       "        vertical-align: middle;\n",
       "    }\n",
       "\n",
       "    .dataframe tbody tr th {\n",
       "        vertical-align: top;\n",
       "    }\n",
       "\n",
       "    .dataframe thead th {\n",
       "        text-align: right;\n",
       "    }\n",
       "</style>\n",
       "<table border=\"1\" class=\"dataframe\">\n",
       "  <thead>\n",
       "    <tr style=\"text-align: right;\">\n",
       "      <th></th>\n",
       "      <th>count</th>\n",
       "      <th>mean</th>\n",
       "      <th>std</th>\n",
       "      <th>min</th>\n",
       "      <th>25%</th>\n",
       "      <th>50%</th>\n",
       "      <th>75%</th>\n",
       "      <th>max</th>\n",
       "    </tr>\n",
       "  </thead>\n",
       "  <tbody>\n",
       "    <tr>\n",
       "      <th>Year</th>\n",
       "      <td>112.0</td>\n",
       "      <td>2016.669643</td>\n",
       "      <td>1.629616</td>\n",
       "      <td>2013.0</td>\n",
       "      <td>2015.0</td>\n",
       "      <td>2017.0</td>\n",
       "      <td>2017.0</td>\n",
       "      <td>2020.0</td>\n",
       "    </tr>\n",
       "    <tr>\n",
       "      <th>Price</th>\n",
       "      <td>112.0</td>\n",
       "      <td>483866.044643</td>\n",
       "      <td>91217.450533</td>\n",
       "      <td>300000.0</td>\n",
       "      <td>423750.0</td>\n",
       "      <td>500000.0</td>\n",
       "      <td>550000.0</td>\n",
       "      <td>755000.0</td>\n",
       "    </tr>\n",
       "  </tbody>\n",
       "</table>\n",
       "</div>"
      ],
      "text/plain": [
       "       count           mean           std       min       25%       50%  \\\n",
       "Year   112.0    2016.669643      1.629616    2013.0    2015.0    2017.0   \n",
       "Price  112.0  483866.044643  91217.450533  300000.0  423750.0  500000.0   \n",
       "\n",
       "            75%       max  \n",
       "Year     2017.0    2020.0  \n",
       "Price  550000.0  755000.0  "
      ]
     },
     "execution_count": 5,
     "metadata": {},
     "output_type": "execute_result"
    }
   ],
   "source": [
    "data.describe().T"
   ]
  },
  {
   "cell_type": "code",
   "execution_count": 6,
   "id": "63fbc7fa",
   "metadata": {},
   "outputs": [
    {
     "data": {
      "text/plain": [
       "(112, 2)"
      ]
     },
     "execution_count": 6,
     "metadata": {},
     "output_type": "execute_result"
    }
   ],
   "source": [
    " data.shape\n",
    "    "
   ]
  },
  {
   "cell_type": "code",
   "execution_count": 7,
   "id": "d5bac955",
   "metadata": {},
   "outputs": [
    {
     "data": {
      "image/png": "[encoded data removed]",
      "text/plain": [
       "<Figure size 432x288 with 1 Axes>"
      ]
     },
     "metadata": {
      "needs_background": "light"
     },
     "output_type": "display_data"
    }
   ],
   "source": [
    "plt.scatter(data.Year,data.Price);"
   ]
  },
  {
   "cell_type": "code",
   "execution_count": 8,
   "id": "c316b1c7",
   "metadata": {},
   "outputs": [],
   "source": [
    "Data1 =data.drop_duplicates(subset=[\"Year\"])"
   ]
  },
  {
   "cell_type": "code",
   "execution_count": 9,
   "id": "c09865df",
   "metadata": {},
   "outputs": [
    {
     "data": {
      "text/html": [
       "<div>\n",
       "<style scoped>\n",
       "    .dataframe tbody tr th:only-of-type {\n",
       "        vertical-align: middle;\n",
       "    }\n",
       "\n",
       "    .dataframe tbody tr th {\n",
       "        vertical-align: top;\n",
       "    }\n",
       "\n",
       "    .dataframe thead th {\n",
       "        text-align: right;\n",
       "    }\n",
       "</style>\n",
       "<table border=\"1\" class=\"dataframe\">\n",
       "  <thead>\n",
       "    <tr style=\"text-align: right;\">\n",
       "      <th></th>\n",
       "      <th>Year</th>\n",
       "      <th>Price</th>\n",
       "    </tr>\n",
       "  </thead>\n",
       "  <tbody>\n",
       "    <tr>\n",
       "      <th>0</th>\n",
       "      <td>2018</td>\n",
       "      <td>465000</td>\n",
       "    </tr>\n",
       "    <tr>\n",
       "      <th>1</th>\n",
       "      <td>2019</td>\n",
       "      <td>755000</td>\n",
       "    </tr>\n",
       "    <tr>\n",
       "      <th>5</th>\n",
       "      <td>2015</td>\n",
       "      <td>350000</td>\n",
       "    </tr>\n",
       "    <tr>\n",
       "      <th>6</th>\n",
       "      <td>2016</td>\n",
       "      <td>425000</td>\n",
       "    </tr>\n",
       "    <tr>\n",
       "      <th>7</th>\n",
       "      <td>2017</td>\n",
       "      <td>575000</td>\n",
       "    </tr>\n",
       "    <tr>\n",
       "      <th>39</th>\n",
       "      <td>2020</td>\n",
       "      <td>545000</td>\n",
       "    </tr>\n",
       "    <tr>\n",
       "      <th>50</th>\n",
       "      <td>2013</td>\n",
       "      <td>325000</td>\n",
       "    </tr>\n",
       "    <tr>\n",
       "      <th>56</th>\n",
       "      <td>2014</td>\n",
       "      <td>341000</td>\n",
       "    </tr>\n",
       "  </tbody>\n",
       "</table>\n",
       "</div>"
      ],
      "text/plain": [
       "    Year   Price\n",
       "0   2018  465000\n",
       "1   2019  755000\n",
       "5   2015  350000\n",
       "6   2016  425000\n",
       "7   2017  575000\n",
       "39  2020  545000\n",
       "50  2013  325000\n",
       "56  2014  341000"
      ]
     },
     "execution_count": 9,
     "metadata": {},
     "output_type": "execute_result"
    }
   ],
   "source": [
    "Data1"
   ]
  },
  {
   "cell_type": "code",
   "execution_count": 10,
   "id": "77906d99",
   "metadata": {},
   "outputs": [
    {
     "data": {
      "image/png": "[encoded data removed]",
      "text/plain": [
       "<Figure size 432x288 with 1 Axes>"
      ]
     },
     "metadata": {
      "needs_background": "light"
     },
     "output_type": "display_data"
    }
   ],
   "source": [
    "plt.scatter(Data1.Year,Data1.Price);"
   ]
  },
  {
   "cell_type": "markdown",
   "id": "5c2fa40a",
   "metadata": {},
   "source": [
    "# Coorelation "
   ]
  },
  {
   "cell_type": "code",
   "execution_count": 11,
   "id": "16301c3e",
   "metadata": {},
   "outputs": [
    {
     "data": {
      "text/plain": [
       "<AxesSubplot:>"
      ]
     },
     "execution_count": 11,
     "metadata": {},
     "output_type": "execute_result"
    },
    {
     "data": {
      "image/png": "[encoded data removed]",
      "text/plain": [
       "<Figure size 576x288 with 2 Axes>"
      ]
     },
     "metadata": {
      "needs_background": "light"
     },
     "output_type": "display_data"
    }
   ],
   "source": [
    "corrmatrix=Data1.corr()\n",
    "plt.subplots(figsize=(8,4))\n",
    "sns.heatmap(corrmatrix,annot=True)"
   ]
  },
  {
   "cell_type": "markdown",
   "id": "286bdc5d",
   "metadata": {},
   "source": [
    "# Predicting the Price of Car in 2022"
   ]
  },
  {
   "cell_type": "code",
   "execution_count": 12,
   "id": "56d6bbc1",
   "metadata": {},
   "outputs": [
    {
     "data": {
      "text/plain": [
       "Index(['Year', 'Price'], dtype='object')"
      ]
     },
     "execution_count": 12,
     "metadata": {},
     "output_type": "execute_result"
    }
   ],
   "source": [
    "Data1.columns"
   ]
  },
  {
   "cell_type": "code",
   "execution_count": 13,
   "id": "a1741e69",
   "metadata": {},
   "outputs": [],
   "source": [
    "y=data['Price']"
   ]
  },
  {
   "cell_type": "code",
   "execution_count": 14,
   "id": "eea4643c",
   "metadata": {},
   "outputs": [],
   "source": [
    "X=data[['Year']]"
   ]
  },
  {
   "cell_type": "code",
   "execution_count": 15,
   "id": "1d946079",
   "metadata": {},
   "outputs": [],
   "source": [
    "from sklearn.model_selection import train_test_split\n",
    "X_train,X_test,y_train,y_test=train_test_split(X,y,random_state=0)"
   ]
  },
  {
   "cell_type": "code",
   "execution_count": 16,
   "id": "ac4e7888",
   "metadata": {},
   "outputs": [
    {
     "data": {
      "text/plain": [
       "(84, 1)"
      ]
     },
     "execution_count": 16,
     "metadata": {},
     "output_type": "execute_result"
    }
   ],
   "source": [
    "X_train.shape\n"
   ]
  },
  {
   "cell_type": "code",
   "execution_count": 17,
   "id": "d572f177",
   "metadata": {},
   "outputs": [
    {
     "data": {
      "text/plain": [
       "(28, 1)"
      ]
     },
     "execution_count": 17,
     "metadata": {},
     "output_type": "execute_result"
    }
   ],
   "source": [
    "X_test.shape"
   ]
  },
  {
   "cell_type": "code",
   "execution_count": 18,
   "id": "604c2885",
   "metadata": {},
   "outputs": [],
   "source": [
    "model= LinearRegression()"
   ]
  },
  {
   "cell_type": "code",
   "execution_count": 19,
   "id": "46bebaf1",
   "metadata": {},
   "outputs": [
    {
     "data": {
      "text/plain": [
       "LinearRegression()"
      ]
     },
     "execution_count": 19,
     "metadata": {},
     "output_type": "execute_result"
    }
   ],
   "source": [
    "model.fit(X_train.values,y_train.values)"
   ]
  },
  {
   "cell_type": "code",
   "execution_count": 20,
   "id": "507b40e8",
   "metadata": {},
   "outputs": [
    {
     "name": "stdout",
     "output_type": "stream",
     "text": [
      "[41691.91919192]\n"
     ]
    }
   ],
   "source": [
    "print(model.coef_)"
   ]
  },
  {
   "cell_type": "code",
   "execution_count": 21,
   "id": "3bcb92c2",
   "metadata": {},
   "outputs": [
    {
     "name": "stdout",
     "output_type": "stream",
     "text": [
      "-83598161.61616163\n"
     ]
    }
   ],
   "source": [
    "print(model.intercept_)"
   ]
  },
  {
   "cell_type": "code",
   "execution_count": 22,
   "id": "feb3190f",
   "metadata": {},
   "outputs": [],
   "source": [
    "predicted=model.predict(X_test.values)"
   ]
  },
  {
   "cell_type": "code",
   "execution_count": 23,
   "id": "90a8412e",
   "metadata": {},
   "outputs": [
    {
     "data": {
      "text/plain": [
       "(28,)"
      ]
     },
     "execution_count": 23,
     "metadata": {},
     "output_type": "execute_result"
    }
   ],
   "source": [
    "predicted.shape"
   ]
  },
  {
   "cell_type": "code",
   "execution_count": 24,
   "id": "3b2a462a",
   "metadata": {},
   "outputs": [],
   "source": [
    "predicted=model.predict([[2022]])"
   ]
  },
  {
   "cell_type": "code",
   "execution_count": 25,
   "id": "c45e0968",
   "metadata": {},
   "outputs": [
    {
     "data": {
      "text/plain": [
       "array([702898.98989899])"
      ]
     },
     "execution_count": 25,
     "metadata": {},
     "output_type": "execute_result"
    }
   ],
   "source": [
    "predicted"
   ]
  },
  {
   "cell_type": "markdown",
   "id": "bd6b4bf2",
   "metadata": {},
   "source": [
    "The predicted value of the car in 2022 is 702898"
   ]
  },
  {
   "cell_type": "markdown",
   "id": "9fcb04cd",
   "metadata": {},
   "source": [
    "# Lasso Regression"
   ]
  },
  {
   "cell_type": "code",
   "execution_count": 26,
   "id": "0d3291f7",
   "metadata": {},
   "outputs": [
    {
     "data": {
      "text/plain": [
       "0.4686336867683587"
      ]
     },
     "execution_count": 26,
     "metadata": {},
     "output_type": "execute_result"
    }
   ],
   "source": [
    "model.score(X_test.values,y_test.values)"
   ]
  },
  {
   "cell_type": "code",
   "execution_count": 27,
   "id": "6876db49",
   "metadata": {},
   "outputs": [
    {
     "data": {
      "text/plain": [
       "0.6278427506056824"
      ]
     },
     "execution_count": 27,
     "metadata": {},
     "output_type": "execute_result"
    }
   ],
   "source": [
    "model.score(X_train.values,y_train.values)"
   ]
  },
  {
   "cell_type": "markdown",
   "id": "603f860d",
   "metadata": {},
   "source": [
    "For alpha=50"
   ]
  },
  {
   "cell_type": "code",
   "execution_count": 28,
   "id": "1f3c93ef",
   "metadata": {},
   "outputs": [
    {
     "data": {
      "text/plain": [
       "Lasso(alpha=50, max_iter=100, tol=0.1)"
      ]
     },
     "execution_count": 28,
     "metadata": {},
     "output_type": "execute_result"
    }
   ],
   "source": [
    "from sklearn import linear_model\n",
    "lasso_reg=linear_model.Lasso(alpha=50,max_iter=100,tol=0.1)\n",
    "lasso_reg.fit(X_train.values,y_train.values)"
   ]
  },
  {
   "cell_type": "code",
   "execution_count": 29,
   "id": "2d3f14e3",
   "metadata": {},
   "outputs": [
    {
     "data": {
      "text/plain": [
       "0.46854257501603436"
      ]
     },
     "execution_count": 29,
     "metadata": {},
     "output_type": "execute_result"
    }
   ],
   "source": [
    "lasso_reg.score(X_test.values,y_test.values)"
   ]
  },
  {
   "cell_type": "code",
   "execution_count": 30,
   "id": "19db5931",
   "metadata": {},
   "outputs": [
    {
     "data": {
      "text/plain": [
       "0.6278426522891777"
      ]
     },
     "execution_count": 30,
     "metadata": {},
     "output_type": "execute_result"
    }
   ],
   "source": [
    "lasso_reg.score(X_train.values,y_train.values)"
   ]
  },
  {
   "cell_type": "code",
   "execution_count": 31,
   "id": "2b03252d",
   "metadata": {},
   "outputs": [
    {
     "data": {
      "text/plain": [
       "array([702809.42760943])"
      ]
     },
     "execution_count": 31,
     "metadata": {},
     "output_type": "execute_result"
    }
   ],
   "source": [
    "lasso_reg.predict([[2022]])"
   ]
  },
  {
   "cell_type": "markdown",
   "id": "6c19e5a0",
   "metadata": {},
   "source": [
    "For alpha= 90"
   ]
  },
  {
   "cell_type": "code",
   "execution_count": 32,
   "id": "307c35c8",
   "metadata": {},
   "outputs": [
    {
     "data": {
      "text/plain": [
       "Lasso(alpha=90, max_iter=100, tol=0.1)"
      ]
     },
     "execution_count": 32,
     "metadata": {},
     "output_type": "execute_result"
    }
   ],
   "source": [
    "lasso_reg=linear_model.Lasso(alpha=90,max_iter=100,tol=0.1)\n",
    "lasso_reg.fit(X_train.values,y_train.values)"
   ]
  },
  {
   "cell_type": "code",
   "execution_count": 33,
   "id": "cae4f5c7",
   "metadata": {},
   "outputs": [
    {
     "data": {
      "text/plain": [
       "0.46846960507115765"
      ]
     },
     "execution_count": 33,
     "metadata": {},
     "output_type": "execute_result"
    }
   ],
   "source": [
    "lasso_reg.score(X_test.values,y_test.values)"
   ]
  },
  {
   "cell_type": "code",
   "execution_count": 34,
   "id": "cd8344b4",
   "metadata": {},
   "outputs": [
    {
     "data": {
      "text/plain": [
       "0.6278424320602269"
      ]
     },
     "execution_count": 34,
     "metadata": {},
     "output_type": "execute_result"
    }
   ],
   "source": [
    "lasso_reg.score(X_train.values,y_train.values)"
   ]
  },
  {
   "cell_type": "code",
   "execution_count": 35,
   "id": "046149a7",
   "metadata": {},
   "outputs": [
    {
     "data": {
      "text/plain": [
       "array([702737.77777778])"
      ]
     },
     "execution_count": 35,
     "metadata": {},
     "output_type": "execute_result"
    }
   ],
   "source": [
    "lasso_reg.predict([[2022]])"
   ]
  },
  {
   "cell_type": "markdown",
   "id": "c2298521",
   "metadata": {},
   "source": [
    "For alpha= 20"
   ]
  },
  {
   "cell_type": "code",
   "execution_count": 36,
   "id": "0e82df41",
   "metadata": {},
   "outputs": [
    {
     "data": {
      "text/plain": [
       "Lasso(alpha=20, max_iter=100, tol=0.1)"
      ]
     },
     "execution_count": 36,
     "metadata": {},
     "output_type": "execute_result"
    }
   ],
   "source": [
    "lasso_reg=linear_model.Lasso(alpha=20,max_iter=100,tol=0.1)\n",
    "lasso_reg.fit(X_train.values,y_train.values)"
   ]
  },
  {
   "cell_type": "code",
   "execution_count": 37,
   "id": "538cc3fc",
   "metadata": {},
   "outputs": [
    {
     "data": {
      "text/plain": [
       "0.46859725549119"
      ]
     },
     "execution_count": 37,
     "metadata": {},
     "output_type": "execute_result"
    }
   ],
   "source": [
    "lasso_reg.score(X_test.values,y_test.values)"
   ]
  },
  {
   "cell_type": "code",
   "execution_count": 38,
   "id": "9f0836f5",
   "metadata": {},
   "outputs": [
    {
     "data": {
      "text/plain": [
       "0.6278427348750185"
      ]
     },
     "execution_count": 38,
     "metadata": {},
     "output_type": "execute_result"
    }
   ],
   "source": [
    "lasso_reg.score(X_train.values,y_train.values)"
   ]
  },
  {
   "cell_type": "code",
   "execution_count": 39,
   "id": "df3d576d",
   "metadata": {},
   "outputs": [
    {
     "data": {
      "text/plain": [
       "array([702863.16498317])"
      ]
     },
     "execution_count": 39,
     "metadata": {},
     "output_type": "execute_result"
    }
   ],
   "source": [
    "lasso_reg.predict([[2022]])"
   ]
  },
  {
   "cell_type": "code",
   "execution_count": null,
   "id": "8498e806",
   "metadata": {},
   "outputs": [],
   "source": []
  }
 ],
 "metadata": {
  "kernelspec": {
   "display_name": "Python 3 (ipykernel)",
   "language": "python",
   "name": "python3"
  },
  "language_info": {
   "codemirror_mode": {
    "name": "ipython",
    "version": 3
   },
   "file_extension": ".py",
   "mimetype": "text/x-python",
   "name": "python",
   "nbconvert_exporter": "python",
   "pygments_lexer": "ipython3",
   "version": "3.9.12"
  }
 },
 "nbformat": 4,
 "nbformat_minor": 5
}
